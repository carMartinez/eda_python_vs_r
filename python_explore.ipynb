{
 "cells": [
  {
   "cell_type": "code",
   "execution_count": 123,
   "metadata": {
    "collapsed": true
   },
   "outputs": [],
   "source": [
    "import numpy as np\n",
    "import pandas as pd\n",
    "from collections import OrderedDict\n",
    "from IPython.display import display\n",
    "\n",
    "import matplotlib.pyplot as plt\n",
    "import seaborn as sns\n",
    "%matplotlib inline\n",
    "\n",
    "## Plot styling\n",
    "plt.style.use('seaborn-poster')  # Better sizing\n",
    "plt.style.use('seaborn-white')   # White background"
   ]
  },
  {
   "cell_type": "code",
   "execution_count": 2,
   "metadata": {
    "collapsed": true
   },
   "outputs": [],
   "source": [
    "## MAF Specifications are here:\n",
    "## https://docs.gdc.cancer.gov/Data/File_Formats/MAF_Format/\n",
    "## https://wiki.nci.nih.gov/display/TCGA/Mutation+Annotation+Format+(MAF)+Specification\n",
    "## https://docs.gdc.cancer.gov/Data/File_Formats/MAF_Format/\n",
    "\n",
    "in_path_varscan = 'data/maf/6c93f518-1956-4435-9806-37185266d248/TCGA.BRCA.varscan.6c93f518-1956-4435-9806-37185266d248.DR-10.0.somatic.maf.gz'\n",
    "in_path_muse = 'data/maf/b8ca5856-9819-459c-87c5-94e91aca4032/TCGA.BRCA.muse.b8ca5856-9819-459c-87c5-94e91aca4032.DR-10.0.somatic.maf.gz'\n",
    "in_path_ss = 'data/maf/7dd592e3-5950-4438-96d5-3c718aca3f13/TCGA.BRCA.somaticsniper.7dd592e3-5950-4438-96d5-3c718aca3f13.DR-10.0.somatic.maf.gz'\n",
    "in_path_mutect = 'data/maf/995c0111-d90b-4140-bee7-3845436c3b42/TCGA.BRCA.mutect.995c0111-d90b-4140-bee7-3845436c3b42.DR-10.0.somatic.maf.gz'"
   ]
  },
  {
   "cell_type": "code",
   "execution_count": null,
   "metadata": {
    "collapsed": true
   },
   "outputs": [],
   "source": []
  },
  {
   "cell_type": "code",
   "execution_count": 3,
   "metadata": {},
   "outputs": [
    {
     "name": "stdout",
     "output_type": "stream",
     "text": [
      "Shape of combined frame: (370461, 10)\n",
      "Number of sampled individuals: 986\n"
     ]
    },
    {
     "data": {
      "text/html": [
       "<div>\n",
       "<style scoped>\n",
       "    .dataframe tbody tr th:only-of-type {\n",
       "        vertical-align: middle;\n",
       "    }\n",
       "\n",
       "    .dataframe tbody tr th {\n",
       "        vertical-align: top;\n",
       "    }\n",
       "\n",
       "    .dataframe thead th {\n",
       "        text-align: right;\n",
       "    }\n",
       "</style>\n",
       "<table border=\"1\" class=\"dataframe\">\n",
       "  <thead>\n",
       "    <tr style=\"text-align: right;\">\n",
       "      <th></th>\n",
       "      <th>Chromosome</th>\n",
       "      <th>Start_Position</th>\n",
       "      <th>End_Position</th>\n",
       "      <th>Variant_Classification</th>\n",
       "      <th>Variant_Type</th>\n",
       "      <th>Reference_Allele</th>\n",
       "      <th>Tumor_Sample_Barcode</th>\n",
       "      <th>Allele</th>\n",
       "      <th>SYMBOL</th>\n",
       "      <th>IMPACT</th>\n",
       "    </tr>\n",
       "  </thead>\n",
       "  <tbody>\n",
       "    <tr>\n",
       "      <th>0</th>\n",
       "      <td>chr1</td>\n",
       "      <td>1916819</td>\n",
       "      <td>1916819</td>\n",
       "      <td>Missense_Mutation</td>\n",
       "      <td>SNP</td>\n",
       "      <td>C</td>\n",
       "      <td>TCGA-A2-A3Y0-01A-11D-A23C-09</td>\n",
       "      <td>G</td>\n",
       "      <td>CALML6</td>\n",
       "      <td>MODERATE</td>\n",
       "    </tr>\n",
       "    <tr>\n",
       "      <th>1</th>\n",
       "      <td>chr1</td>\n",
       "      <td>2172304</td>\n",
       "      <td>2172304</td>\n",
       "      <td>Missense_Mutation</td>\n",
       "      <td>SNP</td>\n",
       "      <td>G</td>\n",
       "      <td>TCGA-A2-A3Y0-01A-11D-A23C-09</td>\n",
       "      <td>C</td>\n",
       "      <td>PRKCZ</td>\n",
       "      <td>MODERATE</td>\n",
       "    </tr>\n",
       "    <tr>\n",
       "      <th>2</th>\n",
       "      <td>chr1</td>\n",
       "      <td>3766586</td>\n",
       "      <td>3766586</td>\n",
       "      <td>Missense_Mutation</td>\n",
       "      <td>SNP</td>\n",
       "      <td>G</td>\n",
       "      <td>TCGA-A2-A3Y0-01A-11D-A23C-09</td>\n",
       "      <td>A</td>\n",
       "      <td>CCDC27</td>\n",
       "      <td>MODERATE</td>\n",
       "    </tr>\n",
       "    <tr>\n",
       "      <th>3</th>\n",
       "      <td>chr1</td>\n",
       "      <td>6040634</td>\n",
       "      <td>6040634</td>\n",
       "      <td>Silent</td>\n",
       "      <td>SNP</td>\n",
       "      <td>G</td>\n",
       "      <td>TCGA-A2-A3Y0-01A-11D-A23C-09</td>\n",
       "      <td>C</td>\n",
       "      <td>KCNAB2</td>\n",
       "      <td>LOW</td>\n",
       "    </tr>\n",
       "    <tr>\n",
       "      <th>4</th>\n",
       "      <td>chr1</td>\n",
       "      <td>23961791</td>\n",
       "      <td>23961791</td>\n",
       "      <td>Missense_Mutation</td>\n",
       "      <td>SNP</td>\n",
       "      <td>A</td>\n",
       "      <td>TCGA-A2-A3Y0-01A-11D-A23C-09</td>\n",
       "      <td>G</td>\n",
       "      <td>PNRC2</td>\n",
       "      <td>MODERATE</td>\n",
       "    </tr>\n",
       "  </tbody>\n",
       "</table>\n",
       "</div>"
      ],
      "text/plain": [
       "  Chromosome  Start_Position  End_Position Variant_Classification  \\\n",
       "0       chr1         1916819       1916819      Missense_Mutation   \n",
       "1       chr1         2172304       2172304      Missense_Mutation   \n",
       "2       chr1         3766586       3766586      Missense_Mutation   \n",
       "3       chr1         6040634       6040634                 Silent   \n",
       "4       chr1        23961791      23961791      Missense_Mutation   \n",
       "\n",
       "  Variant_Type Reference_Allele          Tumor_Sample_Barcode Allele  SYMBOL  \\\n",
       "0          SNP                C  TCGA-A2-A3Y0-01A-11D-A23C-09      G  CALML6   \n",
       "1          SNP                G  TCGA-A2-A3Y0-01A-11D-A23C-09      C   PRKCZ   \n",
       "2          SNP                G  TCGA-A2-A3Y0-01A-11D-A23C-09      A  CCDC27   \n",
       "3          SNP                G  TCGA-A2-A3Y0-01A-11D-A23C-09      C  KCNAB2   \n",
       "4          SNP                A  TCGA-A2-A3Y0-01A-11D-A23C-09      G   PNRC2   \n",
       "\n",
       "     IMPACT  \n",
       "0  MODERATE  \n",
       "1  MODERATE  \n",
       "2  MODERATE  \n",
       "3       LOW  \n",
       "4  MODERATE  "
      ]
     },
     "execution_count": 3,
     "metadata": {},
     "output_type": "execute_result"
    }
   ],
   "source": [
    "## Concatenate df's vertically\n",
    "\n",
    "## Define column types\n",
    "col_type_map = {\n",
    "    'Chromosome': np.unicode,\n",
    "    'Start_Position': np.int64,\n",
    "    'End_Position': np.int64,\n",
    "    'SYMBOL': np.unicode,\n",
    "    'Reference_Allele': np.unicode,\n",
    "    'Allele': np.unicode,\n",
    "    'Variant_Classification': np.unicode,\n",
    "    'IMPACT': np.unicode,\n",
    "    'Variant_Type': np.unicode,\n",
    "    'Tumor_Sample_Barcode': np.unicode,\n",
    "}\n",
    "keep_cols = col_type_map.keys()\n",
    "\n",
    "## Concatenate vertically\n",
    "in_paths = [\n",
    "    in_path_varscan, \n",
    "    in_path_muse, \n",
    "    in_path_ss, \n",
    "    in_path_mutect\n",
    "]\n",
    "df = pd.concat([\n",
    "        pd.read_table(\n",
    "            path, \n",
    "            dtype = col_type_map,\n",
    "            usecols = keep_cols,\n",
    "            comment = '#')\n",
    "        for path in in_paths\n",
    "])\n",
    "\n",
    "n_samples = df['Tumor_Sample_Barcode'].nunique()\n",
    "print('Shape of combined frame: {}'.format(df.shape))\n",
    "print('Number of sampled individuals: {}'.format(n_samples))\n",
    "df.head()"
   ]
  },
  {
   "cell_type": "code",
   "execution_count": 4,
   "metadata": {
    "collapsed": true
   },
   "outputs": [],
   "source": [
    "## Rename and reorder columns\n",
    "\n",
    "col_name_map = OrderedDict([\n",
    "    ('Chromosome', 'CHR'),\n",
    "    ('Start_Position', 'START'),\n",
    "    ('End_Position', 'END'),\n",
    "    ('SYMBOL', 'GENE'),\n",
    "    ('Reference_Allele', 'REF'),\n",
    "    ('Allele', 'ALT'),\n",
    "    ('Variant_Classification', 'CLASS'),\n",
    "    ('IMPACT', 'IMPACT'),\n",
    "    ('Variant_Type', 'TYPE'),\n",
    "    ('Tumor_Sample_Barcode', 'BARCODE'),\n",
    "])\n",
    "keep_cols = list(col_name_map.values()) # Need list() because its odict\n",
    "df.rename(columns=col_name_map, inplace=True)\n",
    "df = df[keep_cols]"
   ]
  },
  {
   "cell_type": "code",
   "execution_count": 5,
   "metadata": {
    "collapsed": true
   },
   "outputs": [],
   "source": [
    "## Create new columns from old\n",
    "df['SAMPLE'] = df.BARCODE.str[0:12]\n",
    "df['MUTATION'] = df.CHR.str.cat([\n",
    "    df.GENE, \n",
    "    df.START.map(str), \n",
    "    df.END.map(str), \n",
    "    df.REF, \n",
    "    df.ALT], \n",
    "    sep = ':'\n",
    ")"
   ]
  },
  {
   "cell_type": "code",
   "execution_count": 6,
   "metadata": {},
   "outputs": [],
   "source": [
    "## Remove duplicates\n",
    "df.drop_duplicates(inplace = True)"
   ]
  },
  {
   "cell_type": "code",
   "execution_count": 92,
   "metadata": {},
   "outputs": [
    {
     "name": "stdout",
     "output_type": "stream",
     "text": [
      "Shape of total frame: (132916, 12)\n"
     ]
    },
    {
     "data": {
      "text/html": [
       "<div>\n",
       "<style scoped>\n",
       "    .dataframe tbody tr th:only-of-type {\n",
       "        vertical-align: middle;\n",
       "    }\n",
       "\n",
       "    .dataframe tbody tr th {\n",
       "        vertical-align: top;\n",
       "    }\n",
       "\n",
       "    .dataframe thead th {\n",
       "        text-align: right;\n",
       "    }\n",
       "</style>\n",
       "<table border=\"1\" class=\"dataframe\">\n",
       "  <thead>\n",
       "    <tr style=\"text-align: right;\">\n",
       "      <th></th>\n",
       "      <th>CHR</th>\n",
       "      <th>START</th>\n",
       "      <th>END</th>\n",
       "      <th>GENE</th>\n",
       "      <th>REF</th>\n",
       "      <th>ALT</th>\n",
       "      <th>CLASS</th>\n",
       "      <th>IMPACT</th>\n",
       "      <th>TYPE</th>\n",
       "      <th>BARCODE</th>\n",
       "      <th>SAMPLE</th>\n",
       "      <th>MUTATION</th>\n",
       "    </tr>\n",
       "  </thead>\n",
       "  <tbody>\n",
       "    <tr>\n",
       "      <th>0</th>\n",
       "      <td>chr1</td>\n",
       "      <td>1916819</td>\n",
       "      <td>1916819</td>\n",
       "      <td>CALML6</td>\n",
       "      <td>C</td>\n",
       "      <td>G</td>\n",
       "      <td>Missense_Mutation</td>\n",
       "      <td>MODERATE</td>\n",
       "      <td>SNP</td>\n",
       "      <td>TCGA-A2-A3Y0-01A-11D-A23C-09</td>\n",
       "      <td>TCGA-A2-A3Y0</td>\n",
       "      <td>chr1:CALML6:1916819:1916819:C:G</td>\n",
       "    </tr>\n",
       "    <tr>\n",
       "      <th>1</th>\n",
       "      <td>chr1</td>\n",
       "      <td>2172304</td>\n",
       "      <td>2172304</td>\n",
       "      <td>PRKCZ</td>\n",
       "      <td>G</td>\n",
       "      <td>C</td>\n",
       "      <td>Missense_Mutation</td>\n",
       "      <td>MODERATE</td>\n",
       "      <td>SNP</td>\n",
       "      <td>TCGA-A2-A3Y0-01A-11D-A23C-09</td>\n",
       "      <td>TCGA-A2-A3Y0</td>\n",
       "      <td>chr1:PRKCZ:2172304:2172304:G:C</td>\n",
       "    </tr>\n",
       "    <tr>\n",
       "      <th>2</th>\n",
       "      <td>chr1</td>\n",
       "      <td>3766586</td>\n",
       "      <td>3766586</td>\n",
       "      <td>CCDC27</td>\n",
       "      <td>G</td>\n",
       "      <td>A</td>\n",
       "      <td>Missense_Mutation</td>\n",
       "      <td>MODERATE</td>\n",
       "      <td>SNP</td>\n",
       "      <td>TCGA-A2-A3Y0-01A-11D-A23C-09</td>\n",
       "      <td>TCGA-A2-A3Y0</td>\n",
       "      <td>chr1:CCDC27:3766586:3766586:G:A</td>\n",
       "    </tr>\n",
       "    <tr>\n",
       "      <th>3</th>\n",
       "      <td>chr1</td>\n",
       "      <td>6040634</td>\n",
       "      <td>6040634</td>\n",
       "      <td>KCNAB2</td>\n",
       "      <td>G</td>\n",
       "      <td>C</td>\n",
       "      <td>Silent</td>\n",
       "      <td>LOW</td>\n",
       "      <td>SNP</td>\n",
       "      <td>TCGA-A2-A3Y0-01A-11D-A23C-09</td>\n",
       "      <td>TCGA-A2-A3Y0</td>\n",
       "      <td>chr1:KCNAB2:6040634:6040634:G:C</td>\n",
       "    </tr>\n",
       "    <tr>\n",
       "      <th>4</th>\n",
       "      <td>chr1</td>\n",
       "      <td>23961791</td>\n",
       "      <td>23961791</td>\n",
       "      <td>PNRC2</td>\n",
       "      <td>A</td>\n",
       "      <td>G</td>\n",
       "      <td>Missense_Mutation</td>\n",
       "      <td>MODERATE</td>\n",
       "      <td>SNP</td>\n",
       "      <td>TCGA-A2-A3Y0-01A-11D-A23C-09</td>\n",
       "      <td>TCGA-A2-A3Y0</td>\n",
       "      <td>chr1:PNRC2:23961791:23961791:A:G</td>\n",
       "    </tr>\n",
       "    <tr>\n",
       "      <th>5</th>\n",
       "      <td>chr1</td>\n",
       "      <td>28236188</td>\n",
       "      <td>28236188</td>\n",
       "      <td>ATPIF1</td>\n",
       "      <td>C</td>\n",
       "      <td>G</td>\n",
       "      <td>Missense_Mutation</td>\n",
       "      <td>MODERATE</td>\n",
       "      <td>SNP</td>\n",
       "      <td>TCGA-A2-A3Y0-01A-11D-A23C-09</td>\n",
       "      <td>TCGA-A2-A3Y0</td>\n",
       "      <td>chr1:ATPIF1:28236188:28236188:C:G</td>\n",
       "    </tr>\n",
       "    <tr>\n",
       "      <th>6</th>\n",
       "      <td>chr1</td>\n",
       "      <td>40422316</td>\n",
       "      <td>40422316</td>\n",
       "      <td>SMAP2</td>\n",
       "      <td>C</td>\n",
       "      <td>G</td>\n",
       "      <td>3'UTR</td>\n",
       "      <td>MODIFIER</td>\n",
       "      <td>SNP</td>\n",
       "      <td>TCGA-A2-A3Y0-01A-11D-A23C-09</td>\n",
       "      <td>TCGA-A2-A3Y0</td>\n",
       "      <td>chr1:SMAP2:40422316:40422316:C:G</td>\n",
       "    </tr>\n",
       "    <tr>\n",
       "      <th>7</th>\n",
       "      <td>chr1</td>\n",
       "      <td>42577033</td>\n",
       "      <td>42577033</td>\n",
       "      <td>CCDC30</td>\n",
       "      <td>T</td>\n",
       "      <td>G</td>\n",
       "      <td>Missense_Mutation</td>\n",
       "      <td>MODERATE</td>\n",
       "      <td>SNP</td>\n",
       "      <td>TCGA-A2-A3Y0-01A-11D-A23C-09</td>\n",
       "      <td>TCGA-A2-A3Y0</td>\n",
       "      <td>chr1:CCDC30:42577033:42577033:T:G</td>\n",
       "    </tr>\n",
       "    <tr>\n",
       "      <th>8</th>\n",
       "      <td>chr1</td>\n",
       "      <td>45621953</td>\n",
       "      <td>45621953</td>\n",
       "      <td>CCDC17</td>\n",
       "      <td>G</td>\n",
       "      <td>A</td>\n",
       "      <td>Missense_Mutation</td>\n",
       "      <td>MODERATE</td>\n",
       "      <td>SNP</td>\n",
       "      <td>TCGA-A2-A3Y0-01A-11D-A23C-09</td>\n",
       "      <td>TCGA-A2-A3Y0</td>\n",
       "      <td>chr1:CCDC17:45621953:45621953:G:A</td>\n",
       "    </tr>\n",
       "    <tr>\n",
       "      <th>9</th>\n",
       "      <td>chr1</td>\n",
       "      <td>92843906</td>\n",
       "      <td>92843906</td>\n",
       "      <td>FAM69A</td>\n",
       "      <td>C</td>\n",
       "      <td>G</td>\n",
       "      <td>Missense_Mutation</td>\n",
       "      <td>MODERATE</td>\n",
       "      <td>SNP</td>\n",
       "      <td>TCGA-A2-A3Y0-01A-11D-A23C-09</td>\n",
       "      <td>TCGA-A2-A3Y0</td>\n",
       "      <td>chr1:FAM69A:92843906:92843906:C:G</td>\n",
       "    </tr>\n",
       "  </tbody>\n",
       "</table>\n",
       "</div>"
      ],
      "text/plain": [
       "    CHR     START       END    GENE REF ALT              CLASS    IMPACT TYPE  \\\n",
       "0  chr1   1916819   1916819  CALML6   C   G  Missense_Mutation  MODERATE  SNP   \n",
       "1  chr1   2172304   2172304   PRKCZ   G   C  Missense_Mutation  MODERATE  SNP   \n",
       "2  chr1   3766586   3766586  CCDC27   G   A  Missense_Mutation  MODERATE  SNP   \n",
       "3  chr1   6040634   6040634  KCNAB2   G   C             Silent       LOW  SNP   \n",
       "4  chr1  23961791  23961791   PNRC2   A   G  Missense_Mutation  MODERATE  SNP   \n",
       "5  chr1  28236188  28236188  ATPIF1   C   G  Missense_Mutation  MODERATE  SNP   \n",
       "6  chr1  40422316  40422316   SMAP2   C   G              3'UTR  MODIFIER  SNP   \n",
       "7  chr1  42577033  42577033  CCDC30   T   G  Missense_Mutation  MODERATE  SNP   \n",
       "8  chr1  45621953  45621953  CCDC17   G   A  Missense_Mutation  MODERATE  SNP   \n",
       "9  chr1  92843906  92843906  FAM69A   C   G  Missense_Mutation  MODERATE  SNP   \n",
       "\n",
       "                        BARCODE        SAMPLE  \\\n",
       "0  TCGA-A2-A3Y0-01A-11D-A23C-09  TCGA-A2-A3Y0   \n",
       "1  TCGA-A2-A3Y0-01A-11D-A23C-09  TCGA-A2-A3Y0   \n",
       "2  TCGA-A2-A3Y0-01A-11D-A23C-09  TCGA-A2-A3Y0   \n",
       "3  TCGA-A2-A3Y0-01A-11D-A23C-09  TCGA-A2-A3Y0   \n",
       "4  TCGA-A2-A3Y0-01A-11D-A23C-09  TCGA-A2-A3Y0   \n",
       "5  TCGA-A2-A3Y0-01A-11D-A23C-09  TCGA-A2-A3Y0   \n",
       "6  TCGA-A2-A3Y0-01A-11D-A23C-09  TCGA-A2-A3Y0   \n",
       "7  TCGA-A2-A3Y0-01A-11D-A23C-09  TCGA-A2-A3Y0   \n",
       "8  TCGA-A2-A3Y0-01A-11D-A23C-09  TCGA-A2-A3Y0   \n",
       "9  TCGA-A2-A3Y0-01A-11D-A23C-09  TCGA-A2-A3Y0   \n",
       "\n",
       "                            MUTATION  \n",
       "0    chr1:CALML6:1916819:1916819:C:G  \n",
       "1     chr1:PRKCZ:2172304:2172304:G:C  \n",
       "2    chr1:CCDC27:3766586:3766586:G:A  \n",
       "3    chr1:KCNAB2:6040634:6040634:G:C  \n",
       "4   chr1:PNRC2:23961791:23961791:A:G  \n",
       "5  chr1:ATPIF1:28236188:28236188:C:G  \n",
       "6   chr1:SMAP2:40422316:40422316:C:G  \n",
       "7  chr1:CCDC30:42577033:42577033:T:G  \n",
       "8  chr1:CCDC17:45621953:45621953:G:A  \n",
       "9  chr1:FAM69A:92843906:92843906:C:G  "
      ]
     },
     "execution_count": 92,
     "metadata": {},
     "output_type": "execute_result"
    }
   ],
   "source": [
    "## Preview\n",
    "print('Shape of total frame: {}'.format(df.shape))\n",
    "# pretty_preview(df)\n",
    "df.head(10)"
   ]
  },
  {
   "cell_type": "code",
   "execution_count": null,
   "metadata": {
    "collapsed": true
   },
   "outputs": [],
   "source": []
  },
  {
   "cell_type": "markdown",
   "metadata": {},
   "source": [
    "Stats to explore:\n",
    "\n",
    "* Breakdown by individual\n",
    "     * I did breakdown by most number of total mutations, but maybe I should also try unique per gene or unique per (more intelligent grouping - functional?)\n",
    "* Genes with most number of unique mutations\n",
    "* Genes with most number of total mutations\n",
    "* Genes with most number of unique individuals mutatated\n",
    "* Genes with most number of total individuals mutated\n",
    "* All of the above but stratified by e.g. variant type or impact\n"
   ]
  },
  {
   "cell_type": "code",
   "execution_count": 8,
   "metadata": {},
   "outputs": [
    {
     "name": "stdout",
     "output_type": "stream",
     "text": [
      "Number of unique\n",
      "\tSamples: 986\n",
      "\tGenes: 19167\n",
      "\tMutations: 130611 \n",
      "\tMutation Classes: 18\n",
      "\n"
     ]
    }
   ],
   "source": [
    "## Count unique elements in a column\n",
    "n_genes = df.GENE.nunique()\n",
    "n_samples = df.BARCODE.nunique()\n",
    "n_mutations = df.MUTATION.nunique()\n",
    "n_mutation_classes = df.CLASS.nunique()\n",
    "\n",
    "print('Number of unique')\n",
    "print('\\tSamples: {}\\n\\tGenes: {}\\n\\tMutations: {} \\n\\tMutation Classes: {}\\n'.format(\n",
    "    n_samples, n_genes, n_mutations, n_mutation_classes\n",
    "))"
   ]
  },
  {
   "cell_type": "code",
   "execution_count": 9,
   "metadata": {},
   "outputs": [
    {
     "name": "stdout",
     "output_type": "stream",
     "text": [
      "Counts per CLASS:\n"
     ]
    },
    {
     "data": {
      "text/plain": [
       "Missense_Mutation         66371\n",
       "Silent                    23881\n",
       "3'UTR                     11052\n",
       "Intron                     6990\n",
       "Nonsense_Mutation          6056\n",
       "Frame_Shift_Del            3661\n",
       "5'UTR                      3392\n",
       "RNA                        2543\n",
       "Frame_Shift_Ins            1975\n",
       "Splice_Site                1921\n",
       "Splice_Region              1537\n",
       "3'Flank                    1132\n",
       "5'Flank                     906\n",
       "In_Frame_Del                869\n",
       "In_Frame_Ins                433\n",
       "Nonstop_Mutation             93\n",
       "Translation_Start_Site       90\n",
       "IGR                          14\n",
       "Name: CLASS, dtype: int64"
      ]
     },
     "metadata": {},
     "output_type": "display_data"
    },
    {
     "name": "stdout",
     "output_type": "stream",
     "text": [
      "Counts per IMPACT:\n"
     ]
    },
    {
     "data": {
      "text/plain": [
       "MODERATE    67648\n",
       "MODIFIER    26059\n",
       "LOW         25413\n",
       "HIGH        13796\n",
       "Name: IMPACT, dtype: int64"
      ]
     },
     "metadata": {},
     "output_type": "display_data"
    },
    {
     "name": "stdout",
     "output_type": "stream",
     "text": [
      "Counts per TYPE:\n"
     ]
    },
    {
     "data": {
      "text/plain": [
       "SNP    121319\n",
       "DEL      7316\n",
       "INS      4281\n",
       "Name: TYPE, dtype: int64"
      ]
     },
     "metadata": {},
     "output_type": "display_data"
    },
    {
     "name": "stdout",
     "output_type": "stream",
     "text": [
      "Top repeated (>10) mutations:\n"
     ]
    },
    {
     "data": {
      "text/plain": [
       "chr3:PIK3CA:179234297:179234297:A:G         121\n",
       "chr3:PIK3CA:179218303:179218303:G:A          63\n",
       "chr3:PIK3CA:179218294:179218294:G:A          43\n",
       "chr1:ST6GALNAC3:76576946:76576947:-:AAAC     33\n",
       "chr14:AKT1:104780214:104780214:C:T           25\n",
       "chr3:MUC4:195783009:195783009:C:T            21\n",
       "chr10:GATA3:8069470:8069471:CA:-             21\n",
       "chr3:MUC4:195783008:195783008:A:G            20\n",
       "chr17:TP53:7675088:7675088:C:T               20\n",
       "chr15:GOLGA6L6:20535018:20535018:C:T         17\n",
       "chr3:PIK3CA:179203765:179203765:T:A          17\n",
       "chr3:PIK3CA:179234297:179234297:A:T          13\n",
       "chr6:OPRM1:154107953:154107958:TTTTTA:-      13\n",
       "chr17:TP53:7673802:7673802:C:T               12\n",
       "chr1:NBPF12:146963189:146963189:G:C          11\n",
       "chr16:PKD1P6:15104542:15104542:T:A           11\n",
       "Name: MUTATION, dtype: int64"
      ]
     },
     "metadata": {},
     "output_type": "display_data"
    }
   ],
   "source": [
    "## Factor level counts\n",
    "print('Counts per CLASS:')\n",
    "display(df.CLASS.value_counts())\n",
    "\n",
    "print('Counts per IMPACT:')\n",
    "display(df.IMPACT.value_counts())\n",
    "\n",
    "print('Counts per TYPE:')\n",
    "display(df.TYPE.value_counts())\n",
    "\n",
    "print('Top repeated (>10) mutations:')\n",
    "mut_counts = df.MUTATION.value_counts()\n",
    "display(mut_counts[mut_counts.gt(10)])"
   ]
  },
  {
   "cell_type": "code",
   "execution_count": 10,
   "metadata": {},
   "outputs": [
    {
     "data": {
      "image/png": "[encoded data removed]",
      "text/plain": [
       "<Figure size 921.6x633.6 with 1 Axes>"
      ]
     },
     "metadata": {},
     "output_type": "display_data"
    }
   ],
   "source": [
    "## Ordered bar plots\n",
    "sns.countplot(y='CLASS', \n",
    "              data=df, \n",
    "              color='#3267AD',\n",
    "              order = df.CLASS.value_counts().index\n",
    ")\n",
    "plt.title('Classes of Mutations Found')\n",
    "plt.show()"
   ]
  },
  {
   "cell_type": "code",
   "execution_count": 11,
   "metadata": {},
   "outputs": [
    {
     "name": "stdout",
     "output_type": "stream",
     "text": [
      "Most mutations:\n",
      "SAMPLE\n",
      "TCGA-AN-A046    7948\n",
      "TCGA-AC-A23H    6711\n",
      "TCGA-5L-AAT1    2117\n",
      "TCGA-BH-A18G    2033\n",
      "TCGA-AN-A0AK    2029\n",
      "TCGA-A8-A09Z    1924\n",
      "TCGA-BH-A0HF    1695\n",
      "TCGA-AO-A128    1644\n",
      "TCGA-D8-A1XK    1541\n",
      "TCGA-BH-A0B6    1419\n",
      "TCGA-D8-A1XQ    1274\n",
      "TCGA-D8-A1JA    1245\n",
      "TCGA-D8-A27G    1191\n",
      "TCGA-D8-A1J8    1127\n",
      "TCGA-AR-A0U0    1125\n",
      "dtype: int64\n",
      "\n",
      "Least mutations:\n",
      "SAMPLE\n",
      "TCGA-AC-A2FF    19\n",
      "TCGA-A2-A0ES    18\n",
      "TCGA-AC-A2FB    17\n",
      "TCGA-AR-A252    16\n",
      "TCGA-AR-A24W    16\n",
      "TCGA-LL-A440    16\n",
      "TCGA-AO-A1KO    15\n",
      "TCGA-A2-A1G6    12\n",
      "TCGA-A8-A08C     9\n",
      "TCGA-A2-A25F     7\n",
      "dtype: int64\n"
     ]
    },
    {
     "data": {
      "image/png": "[encoded data removed]",
      "text/plain": [
       "<Figure size 921.6x633.6 with 1 Axes>"
      ]
     },
     "metadata": {},
     "output_type": "display_data"
    }
   ],
   "source": [
    "## Ranking summary\n",
    "df_tmp = df.groupby('SAMPLE').size().sort_values(ascending=False)\n",
    "print('Most mutations:')\n",
    "print(df_tmp.iloc[0:15])\n",
    "print('\\nLeast mutations:')\n",
    "print(df_tmp.iloc[-11:-1])\n",
    "\n",
    "## Ranking plot\n",
    "plt.plot(df_tmp.values)\n",
    "plt.title('Mutations per Individual')\n",
    "plt.xlabel('Individual Rank')\n",
    "plt.ylabel('Number of Mutations')\n",
    "plt.show()"
   ]
  },
  {
   "cell_type": "markdown",
   "metadata": {},
   "source": [
    "In the below two cells we are going to explore three related but separate summaries. The nuance is whether we are counting unique occurences or aggregate occurences and on which factor.\n",
    "\n",
    "Consider the following mock dataset. Simple GENE, SAMPLE, and MUTATION identifiers are used instead of the verbose realistic ones. \n",
    "\n",
    "| GENE | SAMPLE | MUTATION |\n",
    "|:---: | :---: | :---: |\n",
    "| A | 1 | $\\alpha$ |\n",
    "| A | 2 | $\\alpha$ |\n",
    "| A | 3 | $\\alpha$ |\n",
    "| B | 1 | $\\beta$ |\n",
    "| B | 1 | $\\gamma$ |\n",
    "| B | 2 | $\\beta$ |\n",
    "| B | 2 | $\\gamma$ |\n",
    "| C | 1 | $\\delta$ |\n",
    "| C | 1 | $\\epsilon$ |\n",
    "| C | 1 | $\\zeta$ |\n",
    "\n",
    "For quantifying the number of mutations, we might be interested in any of the following three metrics:\n",
    "\n",
    "* Genes with the most samples mutated\n",
    "* Genes with the largest number of aggregate mutations\n",
    "* Genes with the largest number of unique mutations\n",
    "\n",
    "The counts for the above example are as follows (bolded cells are the highest count for the column):\n",
    "\n",
    "| GENE | # Samples Mutated | # Aggregate Mutations | # Total Mutations\n",
    "| :---: | :---: | :---: | :---: |\n",
    "| A | **3** | 3 | 1 |\n",
    "| B | 2 | **4** | 2 |\n",
    "| C | 1 | 3 | **3** |\n",
    "\n",
    "Clearly the metric used has an impact on the results. In the three cells below we'll cover calculations and plots for each metric.\n"
   ]
  },
  {
   "cell_type": "code",
   "execution_count": null,
   "metadata": {},
   "outputs": [],
   "source": []
  },
  {
   "cell_type": "code",
   "execution_count": null,
   "metadata": {},
   "outputs": [],
   "source": []
  },
  {
   "cell_type": "code",
   "execution_count": 133,
   "metadata": {},
   "outputs": [
    {
     "data": {
      "text/html": [
       "<div>\n",
       "<style scoped>\n",
       "    .dataframe tbody tr th:only-of-type {\n",
       "        vertical-align: middle;\n",
       "    }\n",
       "\n",
       "    .dataframe tbody tr th {\n",
       "        vertical-align: top;\n",
       "    }\n",
       "\n",
       "    .dataframe thead th {\n",
       "        text-align: right;\n",
       "    }\n",
       "</style>\n",
       "<table border=\"1\" class=\"dataframe\">\n",
       "  <thead>\n",
       "    <tr style=\"text-align: right;\">\n",
       "      <th></th>\n",
       "      <th>N_MUTATIONS</th>\n",
       "      <th>N_UNIQUE_MUTATIONS</th>\n",
       "      <th>N_SAMPLES</th>\n",
       "    </tr>\n",
       "    <tr>\n",
       "      <th>GENE</th>\n",
       "      <th></th>\n",
       "      <th></th>\n",
       "      <th></th>\n",
       "    </tr>\n",
       "  </thead>\n",
       "  <tbody>\n",
       "    <tr>\n",
       "      <th>TP53</th>\n",
       "      <td>377</td>\n",
       "      <td>240</td>\n",
       "      <td>360</td>\n",
       "    </tr>\n",
       "    <tr>\n",
       "      <th>PIK3CA</th>\n",
       "      <td>384</td>\n",
       "      <td>82</td>\n",
       "      <td>339</td>\n",
       "    </tr>\n",
       "    <tr>\n",
       "      <th>TTN</th>\n",
       "      <td>472</td>\n",
       "      <td>472</td>\n",
       "      <td>243</td>\n",
       "    </tr>\n",
       "    <tr>\n",
       "      <th>MUC4</th>\n",
       "      <td>280</td>\n",
       "      <td>141</td>\n",
       "      <td>197</td>\n",
       "    </tr>\n",
       "    <tr>\n",
       "      <th>CDH1</th>\n",
       "      <td>154</td>\n",
       "      <td>133</td>\n",
       "      <td>149</td>\n",
       "    </tr>\n",
       "    <tr>\n",
       "      <th>MUC16</th>\n",
       "      <td>208</td>\n",
       "      <td>204</td>\n",
       "      <td>149</td>\n",
       "    </tr>\n",
       "    <tr>\n",
       "      <th>GATA3</th>\n",
       "      <td>150</td>\n",
       "      <td>107</td>\n",
       "      <td>141</td>\n",
       "    </tr>\n",
       "    <tr>\n",
       "      <th>MUC2</th>\n",
       "      <td>128</td>\n",
       "      <td>58</td>\n",
       "      <td>114</td>\n",
       "    </tr>\n",
       "    <tr>\n",
       "      <th>KMT2C</th>\n",
       "      <td>131</td>\n",
       "      <td>128</td>\n",
       "      <td>101</td>\n",
       "    </tr>\n",
       "    <tr>\n",
       "      <th>MAP3K1</th>\n",
       "      <td>142</td>\n",
       "      <td>134</td>\n",
       "      <td>91</td>\n",
       "    </tr>\n",
       "  </tbody>\n",
       "</table>\n",
       "</div>"
      ],
      "text/plain": [
       "        N_MUTATIONS  N_UNIQUE_MUTATIONS  N_SAMPLES\n",
       "GENE                                              \n",
       "TP53            377                 240        360\n",
       "PIK3CA          384                  82        339\n",
       "TTN             472                 472        243\n",
       "MUC4            280                 141        197\n",
       "CDH1            154                 133        149\n",
       "MUC16           208                 204        149\n",
       "GATA3           150                 107        141\n",
       "MUC2            128                  58        114\n",
       "KMT2C           131                 128        101\n",
       "MAP3K1          142                 134         91"
      ]
     },
     "execution_count": 133,
     "metadata": {},
     "output_type": "execute_result"
    }
   ],
   "source": [
    "## Count by groups\n",
    "df_summary = df.groupby('GENE').agg(OrderedDict([\n",
    "    ('MUTATION', ['size', 'nunique']),\n",
    "    ('SAMPLE', ['nunique']),\n",
    "]))\n",
    "\n",
    "## Rename the MultiIndex cols\n",
    "# This is why OrderedDict was used w/ agg()\n",
    "df_summary.columns = [\n",
    "    'N_MUTATIONS', \n",
    "    'N_UNIQUE_MUTATIONS', \n",
    "    'N_SAMPLES']\n",
    "\n",
    "## Sort\n",
    "df_summary.sort_values(\n",
    "    ['N_SAMPLES', 'N_MUTATIONS'], \n",
    "    ascending = [False, True],\n",
    "    inplace = True)\n",
    "df_summary.head(10)"
   ]
  },
  {
   "cell_type": "code",
   "execution_count": 99,
   "metadata": {
    "scrolled": true
   },
   "outputs": [
    {
     "data": {
      "image/png": "[encoded data removed]",
      "text/plain": [
       "<Figure size 921.6x633.6 with 1 Axes>"
      ]
     },
     "metadata": {},
     "output_type": "display_data"
    }
   ],
   "source": [
    "## Barplot for count by group\n",
    "\n",
    "n_genes_to_plot = 10\n",
    "top_genes = df_summary['N_SAMPLES'][0:n_genes_to_plot]\n",
    "plt.bar(\n",
    "    np.arange(n_genes_to_plot), \n",
    "    top_genes,\n",
    "    tick_label = top_genes.index.tolist()\n",
    ")\n",
    "plt.title('Number of Mutated Samples')\n",
    "plt.show()"
   ]
  },
  {
   "cell_type": "code",
   "execution_count": null,
   "metadata": {},
   "outputs": [],
   "source": []
  },
  {
   "cell_type": "code",
   "execution_count": null,
   "metadata": {},
   "outputs": [],
   "source": []
  },
  {
   "cell_type": "code",
   "execution_count": 110,
   "metadata": {},
   "outputs": [
    {
     "data": {
      "text/html": [
       "<div>\n",
       "<style scoped>\n",
       "    .dataframe tbody tr th:only-of-type {\n",
       "        vertical-align: middle;\n",
       "    }\n",
       "\n",
       "    .dataframe tbody tr th {\n",
       "        vertical-align: top;\n",
       "    }\n",
       "\n",
       "    .dataframe thead th {\n",
       "        text-align: right;\n",
       "    }\n",
       "</style>\n",
       "<table border=\"1\" class=\"dataframe\">\n",
       "  <thead>\n",
       "    <tr style=\"text-align: right;\">\n",
       "      <th></th>\n",
       "      <th>GENE</th>\n",
       "      <th>IMPACT</th>\n",
       "      <th>MUTATION</th>\n",
       "    </tr>\n",
       "  </thead>\n",
       "  <tbody>\n",
       "    <tr>\n",
       "      <th>0</th>\n",
       "      <td>A1BG</td>\n",
       "      <td>MODERATE</td>\n",
       "      <td>3</td>\n",
       "    </tr>\n",
       "    <tr>\n",
       "      <th>1</th>\n",
       "      <td>A1BG</td>\n",
       "      <td>MODIFIER</td>\n",
       "      <td>2</td>\n",
       "    </tr>\n",
       "    <tr>\n",
       "      <th>2</th>\n",
       "      <td>A1CF</td>\n",
       "      <td>HIGH</td>\n",
       "      <td>1</td>\n",
       "    </tr>\n",
       "    <tr>\n",
       "      <th>3</th>\n",
       "      <td>A1CF</td>\n",
       "      <td>LOW</td>\n",
       "      <td>1</td>\n",
       "    </tr>\n",
       "    <tr>\n",
       "      <th>4</th>\n",
       "      <td>A1CF</td>\n",
       "      <td>MODERATE</td>\n",
       "      <td>6</td>\n",
       "    </tr>\n",
       "  </tbody>\n",
       "</table>\n",
       "</div>"
      ],
      "text/plain": [
       "   GENE    IMPACT  MUTATION\n",
       "0  A1BG  MODERATE         3\n",
       "1  A1BG  MODIFIER         2\n",
       "2  A1CF      HIGH         1\n",
       "3  A1CF       LOW         1\n",
       "4  A1CF  MODERATE         6"
      ]
     },
     "execution_count": 110,
     "metadata": {},
     "output_type": "execute_result"
    }
   ],
   "source": [
    "## Count by multiple groups\n",
    "df_impact = df.groupby(['GENE', 'IMPACT']).agg({\n",
    "    'MUTATION': 'nunique'\n",
    "})\n",
    "df_impact.reset_index(inplace = True)\n",
    "df_impact.head()"
   ]
  },
  {
   "cell_type": "code",
   "execution_count": 132,
   "metadata": {},
   "outputs": [
    {
     "data": {
      "image/png": "[encoded data removed]",
      "text/plain": [
       "<Figure size 1299.96x576 with 1 Axes>"
      ]
     },
     "metadata": {},
     "output_type": "display_data"
    }
   ],
   "source": [
    "genes = df_summary.index.tolist()[0:10]\n",
    "df_plt = df_impact.loc[df_impact['GENE'].isin(genes),]\n",
    "df_plt.head()\n",
    "\n",
    "## Plot styling\n",
    "sns.factorplot(\n",
    "    x = 'GENE',\n",
    "    y = 'MUTATION',\n",
    "    hue = 'IMPACT',\n",
    "    order = genes,\n",
    "    palette = 'Set1',\n",
    "    kind = 'bar',\n",
    "    size = 8,\n",
    "    aspect = 2,\n",
    "    data = df_plt\n",
    ")\n",
    "plt.title('Impact of Mutations')\n",
    "# plt.legend(loc=0)\n",
    "plt.show()"
   ]
  },
  {
   "cell_type": "code",
   "execution_count": null,
   "metadata": {},
   "outputs": [],
   "source": []
  },
  {
   "cell_type": "code",
   "execution_count": null,
   "metadata": {},
   "outputs": [],
   "source": []
  },
  {
   "cell_type": "code",
   "execution_count": null,
   "metadata": {},
   "outputs": [],
   "source": []
  },
  {
   "cell_type": "code",
   "execution_count": null,
   "metadata": {},
   "outputs": [],
   "source": []
  },
  {
   "cell_type": "code",
   "execution_count": null,
   "metadata": {},
   "outputs": [],
   "source": []
  },
  {
   "cell_type": "code",
   "execution_count": null,
   "metadata": {
    "collapsed": true
   },
   "outputs": [],
   "source": []
  },
  {
   "cell_type": "code",
   "execution_count": null,
   "metadata": {
    "collapsed": true
   },
   "outputs": [],
   "source": []
  },
  {
   "cell_type": "code",
   "execution_count": null,
   "metadata": {
    "collapsed": true
   },
   "outputs": [],
   "source": []
  },
  {
   "cell_type": "code",
   "execution_count": null,
   "metadata": {},
   "outputs": [],
   "source": []
  }
 ],
 "metadata": {
  "anaconda-cloud": {},
  "kernelspec": {
   "display_name": "Python 3",
   "language": "python",
   "name": "python3"
  },
  "language_info": {
   "codemirror_mode": {
    "name": "ipython",
    "version": 3
   },
   "file_extension": ".py",
   "mimetype": "text/x-python",
   "name": "python",
   "nbconvert_exporter": "python",
   "pygments_lexer": "ipython3",
   "version": "3.6.4"
  }
 },
 "nbformat": 4,
 "nbformat_minor": 2
}
